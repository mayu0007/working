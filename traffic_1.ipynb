{
 "cells": [
  {
   "cell_type": "code",
   "execution_count": 1,
   "metadata": {},
   "outputs": [],
   "source": [
    "import pandas as pd\n",
    "import numpy as np\n",
    "import matplotlib.pyplot as plt\n",
    "import geohash "
   ]
  },
  {
   "cell_type": "code",
   "execution_count": 45,
   "metadata": {},
   "outputs": [],
   "source": [
    "df = pd.read_csv('./Traffic Management/training.csv', delimiter=',')"
   ]
  },
  {
   "cell_type": "code",
   "execution_count": 36,
   "metadata": {},
   "outputs": [
    {
     "data": {
      "text/plain": [
       "52    1366\n",
       "39    1349\n",
       "60    1261\n",
       "53    1220\n",
       "45    1139\n",
       "4     1116\n",
       "32    1092\n",
       "51    1074\n",
       "44     998\n",
       "42     959\n",
       "59     905\n",
       "25     865\n",
       "56     852\n",
       "31     844\n",
       "50     806\n",
       "16     797\n",
       "61     790\n",
       "40     790\n",
       "38     780\n",
       "37     778\n",
       "57     775\n",
       "58     766\n",
       "11     749\n",
       "36     748\n",
       "3      748\n",
       "8      744\n",
       "2      715\n",
       "49     699\n",
       "7      695\n",
       "54     692\n",
       "      ... \n",
       "30     663\n",
       "15     648\n",
       "46     648\n",
       "24     640\n",
       "35     637\n",
       "17     627\n",
       "23     598\n",
       "5      585\n",
       "43     570\n",
       "33     550\n",
       "48     545\n",
       "1      533\n",
       "12     522\n",
       "28     503\n",
       "18     495\n",
       "10     467\n",
       "41     466\n",
       "34     438\n",
       "55     437\n",
       "26     422\n",
       "29     418\n",
       "21     416\n",
       "6      409\n",
       "9      395\n",
       "22     386\n",
       "13     383\n",
       "19     358\n",
       "14     339\n",
       "27     306\n",
       "20     266\n",
       "Name: day, Length: 61, dtype: int64"
      ]
     },
     "execution_count": 36,
     "metadata": {},
     "output_type": "execute_result"
    }
   ],
   "source": [
    "#同期车流量整体趋势\n",
    "\n",
    "df "
   ]
  },
  {
   "cell_type": "code",
   "execution_count": 13,
   "metadata": {},
   "outputs": [
    {
     "name": "stdout",
     "output_type": "stream",
     "text": [
      "qp03pn\n",
      "(-5.41351318359375, 90.6646728515625, 0.00274658203125, 0.0054931640625)\n",
      "(-5.41351318359375, 90.6646728515625)\n"
     ]
    }
   ],
   "source": [
    "print((demand_df.geohash6[1])) #latitude,longitude,latitude_delta,longitude_delta (ns, ew)\n",
    "print(geohash.decode_exactly(demand_df.geohash6[1])) #latitude,longitude,latitude_delta,longitude_delta\n",
    "print(geohash.decode(demand_df.geohash6[1])) #latitude,longitude"
   ]
  },
  {
   "cell_type": "code",
   "execution_count": 43,
   "metadata": {},
   "outputs": [
    {
     "data": {
      "image/png": "[encoded data removed]",
      "text/plain": [
       "<matplotlib.figure.Figure at 0x10bb5fb38>"
      ]
     },
     "metadata": {},
     "output_type": "display_data"
    }
   ],
   "source": [
    "fig, axes = plt.subplots(nrows=5, ncols=1)\n",
    "demand_df['demand'].hist(bins=1000, ax=axes[0])\n",
    "demand_df['demand_log'] = np.log1p(demand_df['demand'])\n",
    "demand_df['demand_log'].hist(bins=1000, ax=axes[1])\n",
    "demand_df['demand_log_log'] = np.log1p(demand_df['demand_log'])\n",
    "demand_df['demand_log_log'].hist(bins=1000, ax=axes[2])\n",
    "demand_df['demand_log_log_log'] = np.log1p(demand_df['demand_log_log'])\n",
    "\n",
    "demand_df['demand_log_log_log'].hist(bins=100, ax=axes[3])\n",
    "demand_df['demand_log_log_log_log'] = np.log1p(demand_df['demand_log_log_log'])\n",
    "\n",
    "demand_df['demand_log_log_log_log'].hist(bins=100, ax=axes[4])\n",
    "\n",
    "\n",
    "plt.show()"
   ]
  },
  {
   "cell_type": "code",
   "execution_count": 37,
   "metadata": {},
   "outputs": [
    {
     "data": {
      "text/plain": [
       "count    4.206321e+06\n",
       "mean     1.050907e-01\n",
       "std      1.592655e-01\n",
       "min      3.092217e-09\n",
       "25%      1.867379e-02\n",
       "50%      5.043463e-02\n",
       "75%      1.208644e-01\n",
       "max      1.000000e+00\n",
       "Name: demand, dtype: float64"
      ]
     },
     "execution_count": 37,
     "metadata": {},
     "output_type": "execute_result"
    }
   ],
   "source": [
    "demand_df['demand'].describe()"
   ]
  },
  {
   "cell_type": "code",
   "execution_count": null,
   "metadata": {},
   "outputs": [],
   "source": []
  }
 ],
 "metadata": {
  "kernelspec": {
   "display_name": "Python 3",
   "language": "python",
   "name": "python3"
  },
  "language_info": {
   "codemirror_mode": {
    "name": "ipython",
    "version": 3
   },
   "file_extension": ".py",
   "mimetype": "text/x-python",
   "name": "python",
   "nbconvert_exporter": "python",
   "pygments_lexer": "ipython3",
   "version": "3.6.5"
  }
 },
 "nbformat": 4,
 "nbformat_minor": 2
}
